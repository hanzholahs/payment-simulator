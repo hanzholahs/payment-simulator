{
 "cells": [
  {
   "cell_type": "markdown",
   "metadata": {},
   "source": [
    "# Simulator"
   ]
  },
  {
   "cell_type": "code",
   "execution_count": 1,
   "metadata": {},
   "outputs": [],
   "source": [
    "import pandas as pd\n",
    "\n",
    "import payment_simulator as ps\n",
    "from payment_simulator.anomaly import AnomalyGenerator\n",
    "from payment_simulator.networks import SimplePaymentNetwork\n",
    "from payment_simulator.utils import random_payment_timing, random_payment_value"
   ]
  },
  {
   "cell_type": "code",
   "execution_count": 2,
   "metadata": {},
   "outputs": [],
   "source": [
    "TOTAL_BANKS = 20\n",
    "INITIAL_BANKS = 3\n",
    "INCREMENT_BANKS = 5\n",
    "ALPHA = 0.00001\n",
    "AVG_PAYMENTS = 35\n",
    "ALLOW_SELF_LOOP = False"
   ]
  },
  {
   "cell_type": "code",
   "execution_count": 3,
   "metadata": {},
   "outputs": [],
   "source": [
    "sim_periods = list(range(15))\n",
    "\n",
    "sim_params = {\n",
    "    \"open_time\": \"06:30:00\",\n",
    "    \"close_time\": \"18:30:00\",\n",
    "    \"value_fn\": random_payment_value,\n",
    "    \"timing_fn\": random_payment_timing,\n",
    "}\n",
    "\n",
    "payment_network = SimplePaymentNetwork(\n",
    "    total_banks=TOTAL_BANKS,\n",
    "    avg_payments=AVG_PAYMENTS,\n",
    "    alpha=ALPHA,\n",
    "    allow_self_loop=ALLOW_SELF_LOOP\n",
    ")\n",
    "\n",
    "anomaly_generator = AnomalyGenerator(\n",
    "    anomaly_start=5,\n",
    "    anomaly_end=12,\n",
    "    prob_start=0.8,\n",
    "    prob_end=1,\n",
    "    lambda_start=0.5,\n",
    "    lambda_end=2.5,\n",
    "    rate=0.5,\n",
    ")"
   ]
  },
  {
   "cell_type": "code",
   "execution_count": 4,
   "metadata": {},
   "outputs": [
    {
     "data": {
      "text/html": [
       "<div>\n",
       "<style scoped>\n",
       "    .dataframe tbody tr th:only-of-type {\n",
       "        vertical-align: middle;\n",
       "    }\n",
       "\n",
       "    .dataframe tbody tr th {\n",
       "        vertical-align: top;\n",
       "    }\n",
       "\n",
       "    .dataframe thead th {\n",
       "        text-align: right;\n",
       "    }\n",
       "</style>\n",
       "<table border=\"1\" class=\"dataframe\">\n",
       "  <thead>\n",
       "    <tr style=\"text-align: right;\">\n",
       "      <th></th>\n",
       "      <th>Period</th>\n",
       "      <th>Time</th>\n",
       "      <th>Sender</th>\n",
       "      <th>Receiver</th>\n",
       "      <th>Count</th>\n",
       "      <th>Value</th>\n",
       "    </tr>\n",
       "  </thead>\n",
       "  <tbody>\n",
       "    <tr>\n",
       "      <th>0</th>\n",
       "      <td>0</td>\n",
       "      <td>13:18:55</td>\n",
       "      <td>0</td>\n",
       "      <td>4</td>\n",
       "      <td>1</td>\n",
       "      <td>0.768472</td>\n",
       "    </tr>\n",
       "    <tr>\n",
       "      <th>1</th>\n",
       "      <td>0</td>\n",
       "      <td>15:02:34</td>\n",
       "      <td>0</td>\n",
       "      <td>4</td>\n",
       "      <td>1</td>\n",
       "      <td>0.267236</td>\n",
       "    </tr>\n",
       "    <tr>\n",
       "      <th>2</th>\n",
       "      <td>0</td>\n",
       "      <td>07:57:41</td>\n",
       "      <td>0</td>\n",
       "      <td>4</td>\n",
       "      <td>1</td>\n",
       "      <td>0.260640</td>\n",
       "    </tr>\n",
       "    <tr>\n",
       "      <th>10497</th>\n",
       "      <td>14</td>\n",
       "      <td>07:54:40</td>\n",
       "      <td>18</td>\n",
       "      <td>3</td>\n",
       "      <td>1</td>\n",
       "      <td>2.021458</td>\n",
       "    </tr>\n",
       "    <tr>\n",
       "      <th>10498</th>\n",
       "      <td>14</td>\n",
       "      <td>18:29:31</td>\n",
       "      <td>18</td>\n",
       "      <td>7</td>\n",
       "      <td>1</td>\n",
       "      <td>2.935881</td>\n",
       "    </tr>\n",
       "    <tr>\n",
       "      <th>10499</th>\n",
       "      <td>14</td>\n",
       "      <td>09:46:06</td>\n",
       "      <td>18</td>\n",
       "      <td>2</td>\n",
       "      <td>1</td>\n",
       "      <td>0.301337</td>\n",
       "    </tr>\n",
       "  </tbody>\n",
       "</table>\n",
       "</div>"
      ],
      "text/plain": [
       "       Period      Time  Sender  Receiver  Count     Value\n",
       "0           0  13:18:55       0         4      1  0.768472\n",
       "1           0  15:02:34       0         4      1  0.267236\n",
       "2           0  07:57:41       0         4      1  0.260640\n",
       "10497      14  07:54:40      18         3      1  2.021458\n",
       "10498      14  18:29:31      18         7      1  2.935881\n",
       "10499      14  09:46:06      18         2      1  0.301337"
      ]
     },
     "execution_count": 4,
     "metadata": {},
     "output_type": "execute_result"
    }
   ],
   "source": [
    "normal_transactions = ps.TransactionSim(sim_id=1, network=payment_network, **sim_params)\n",
    "normal_transactions.run(sim_periods)\n",
    "\n",
    "payments1 = normal_transactions.get_payments_df()\n",
    "\n",
    "pd.concat([payments1.head(3), payments1.tail(3)])"
   ]
  },
  {
   "cell_type": "code",
   "execution_count": 5,
   "metadata": {},
   "outputs": [
    {
     "data": {
      "text/html": [
       "<div>\n",
       "<style scoped>\n",
       "    .dataframe tbody tr th:only-of-type {\n",
       "        vertical-align: middle;\n",
       "    }\n",
       "\n",
       "    .dataframe tbody tr th {\n",
       "        vertical-align: top;\n",
       "    }\n",
       "\n",
       "    .dataframe thead th {\n",
       "        text-align: right;\n",
       "    }\n",
       "</style>\n",
       "<table border=\"1\" class=\"dataframe\">\n",
       "  <thead>\n",
       "    <tr style=\"text-align: right;\">\n",
       "      <th></th>\n",
       "      <th>Period</th>\n",
       "      <th>Time</th>\n",
       "      <th>Sender</th>\n",
       "      <th>Receiver</th>\n",
       "      <th>Count</th>\n",
       "      <th>Value</th>\n",
       "    </tr>\n",
       "  </thead>\n",
       "  <tbody>\n",
       "    <tr>\n",
       "      <th>0</th>\n",
       "      <td>0</td>\n",
       "      <td>09:57:06</td>\n",
       "      <td>0</td>\n",
       "      <td>7</td>\n",
       "      <td>1</td>\n",
       "      <td>1.337997</td>\n",
       "    </tr>\n",
       "    <tr>\n",
       "      <th>1</th>\n",
       "      <td>0</td>\n",
       "      <td>16:25:05</td>\n",
       "      <td>0</td>\n",
       "      <td>7</td>\n",
       "      <td>1</td>\n",
       "      <td>5.006299</td>\n",
       "    </tr>\n",
       "    <tr>\n",
       "      <th>2</th>\n",
       "      <td>0</td>\n",
       "      <td>10:35:43</td>\n",
       "      <td>0</td>\n",
       "      <td>7</td>\n",
       "      <td>1</td>\n",
       "      <td>3.710578</td>\n",
       "    </tr>\n",
       "    <tr>\n",
       "      <th>10497</th>\n",
       "      <td>14</td>\n",
       "      <td>14:03:33</td>\n",
       "      <td>19</td>\n",
       "      <td>16</td>\n",
       "      <td>1</td>\n",
       "      <td>0.850998</td>\n",
       "    </tr>\n",
       "    <tr>\n",
       "      <th>10498</th>\n",
       "      <td>14</td>\n",
       "      <td>14:13:30</td>\n",
       "      <td>19</td>\n",
       "      <td>16</td>\n",
       "      <td>1</td>\n",
       "      <td>0.980043</td>\n",
       "    </tr>\n",
       "    <tr>\n",
       "      <th>10499</th>\n",
       "      <td>14</td>\n",
       "      <td>13:54:27</td>\n",
       "      <td>19</td>\n",
       "      <td>5</td>\n",
       "      <td>1</td>\n",
       "      <td>0.287569</td>\n",
       "    </tr>\n",
       "  </tbody>\n",
       "</table>\n",
       "</div>"
      ],
      "text/plain": [
       "       Period      Time  Sender  Receiver  Count     Value\n",
       "0           0  09:57:06       0         7      1  1.337997\n",
       "1           0  16:25:05       0         7      1  5.006299\n",
       "2           0  10:35:43       0         7      1  3.710578\n",
       "10497      14  14:03:33      19        16      1  0.850998\n",
       "10498      14  14:13:30      19        16      1  0.980043\n",
       "10499      14  13:54:27      19         5      1  0.287569"
      ]
     },
     "execution_count": 5,
     "metadata": {},
     "output_type": "execute_result"
    }
   ],
   "source": [
    "anomaly_transactions = ps.AnomalyTransactionSim(sim_id=2, network=payment_network, anomaly=anomaly_generator, **sim_params)\n",
    "anomaly_transactions.run(sim_periods)\n",
    "\n",
    "payments2 = anomaly_transactions.get_payments_df()\n",
    "\n",
    "pd.concat([payments2.head(3), payments2.tail(3)])"
   ]
  },
  {
   "cell_type": "code",
   "execution_count": 13,
   "metadata": {},
   "outputs": [
    {
     "name": "stdout",
     "output_type": "stream",
     "text": [
      "Total Value of Normal RTGS  : 17092.819 from 10500 transactions\n",
      "Total Value of Anomaly RTGS : 26931.659 from 10500 transactions\n"
     ]
    }
   ],
   "source": [
    "print(f\"Total Value of Normal RTGS  : {payments1['Value'].sum():.3f} from {payments1.shape[0]} transactions\")\n",
    "print(f\"Total Value of Anomaly RTGS : {payments2['Value'].sum():.3f} from {payments1.shape[0]} transactions\")"
   ]
  },
  {
   "cell_type": "code",
   "execution_count": 7,
   "metadata": {},
   "outputs": [
    {
     "name": "stdout",
     "output_type": "stream",
     "text": [
      "Success rate: 100.00%\n"
     ]
    }
   ],
   "source": [
    "correct = 0\n",
    "test_len = 5\n",
    "\n",
    "for _ in range(test_len):\n",
    "    normal_transactions.run(sim_periods)\n",
    "    anomaly_transactions.run(sim_periods)\n",
    "\n",
    "    normal_df = normal_transactions.get_payments_df()\n",
    "    normal_df = normal_df[(normal_df[\"Period\"] <=12) & (normal_df[\"Period\"] >= 5)]\n",
    "\n",
    "    anomaly_df = anomaly_transactions.get_payments_df()\n",
    "    anomaly_df = anomaly_df[(anomaly_df[\"Period\"] <=12) & (normal_df[\"Period\"] >= 5)]\n",
    "\n",
    "    x1 = normal_df[\"Value\"].sum()\n",
    "    x2 = anomaly_df[\"Value\"].sum()\n",
    "\n",
    "    if x2 > x1:\n",
    "        correct += 1\n",
    "\n",
    "print(f\"Success rate: {correct / test_len * 100:.2f}%\")"
   ]
  }
 ],
 "metadata": {
  "kernelspec": {
   "display_name": "paysim",
   "language": "python",
   "name": "python3"
  },
  "language_info": {
   "codemirror_mode": {
    "name": "ipython",
    "version": 3
   },
   "file_extension": ".py",
   "mimetype": "text/x-python",
   "name": "python",
   "nbconvert_exporter": "python",
   "pygments_lexer": "ipython3",
   "version": "3.12.4"
  }
 },
 "nbformat": 4,
 "nbformat_minor": 2
}
