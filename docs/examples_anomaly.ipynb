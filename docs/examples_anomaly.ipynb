{
 "cells": [
  {
   "cell_type": "code",
   "execution_count": 1,
   "metadata": {},
   "outputs": [],
   "source": [
    "from payment_simulator.anomaly import AnomalyGenerator"
   ]
  },
  {
   "cell_type": "code",
   "execution_count": 2,
   "metadata": {},
   "outputs": [],
   "source": [
    "gen = AnomalyGenerator(\n",
    "    anomaly_start=10,\n",
    "    anomaly_end=20,\n",
    "    prob_start=0.4,\n",
    "    prob_end=0.8,\n",
    "    lambda_start=1e2,\n",
    "    lambda_end=1e3,\n",
    "    rate=0.5,\n",
    ")"
   ]
  },
  {
   "cell_type": "code",
   "execution_count": 3,
   "metadata": {},
   "outputs": [
    {
     "name": "stdout",
     "output_type": "stream",
     "text": [
      " 0 : 0.0\n",
      " 1 : 0.0\n",
      " 2 : 0.0\n",
      " 3 : 0.0\n",
      " 4 : 0.0\n",
      " 5 : 0.0\n",
      " 6 : 0.0\n",
      " 7 : 0.0\n",
      " 8 : 0.0\n",
      " 9 : 0.0\n",
      "10 : 0.0\n",
      "11 : 0.0\n",
      "12 : 928.4316187786676\n",
      "13 : 40.71577624900674\n",
      "14 : 0.0\n",
      "15 : 955.9519169187967\n",
      "16 : 0.0\n",
      "17 : 1647.1864703425242\n",
      "18 : 0.0\n",
      "19 : 0.0\n",
      "20 : 1212.5520146211745\n",
      "21 : 0.0\n",
      "22 : 0.0\n",
      "23 : 0.0\n",
      "24 : 0.0\n"
     ]
    }
   ],
   "source": [
    "for i in range(25):\n",
    "    print(f\"{i:2d} : {gen(i)}\")"
   ]
  }
 ],
 "metadata": {
  "kernelspec": {
   "display_name": "paysim",
   "language": "python",
   "name": "python3"
  },
  "language_info": {
   "codemirror_mode": {
    "name": "ipython",
    "version": 3
   },
   "file_extension": ".py",
   "mimetype": "text/x-python",
   "name": "python",
   "nbconvert_exporter": "python",
   "pygments_lexer": "ipython3",
   "version": "3.12.4"
  }
 },
 "nbformat": 4,
 "nbformat_minor": 2
}
