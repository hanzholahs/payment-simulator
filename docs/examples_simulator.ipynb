{
 "cells": [
  {
   "cell_type": "code",
   "execution_count": 1,
   "metadata": {},
   "outputs": [],
   "source": [
    "import payment_simulator as ps\n",
    "from payment_simulator.anomaly import AnomalyGenerator\n",
    "from payment_simulator.networks import SimplePaymentNetwork\n",
    "from payment_simulator.utils import random_payment_timing, random_payment_value"
   ]
  },
  {
   "cell_type": "code",
   "execution_count": 2,
   "metadata": {},
   "outputs": [],
   "source": [
    "sim_periods = list(range(15))\n",
    "\n",
    "sim_params = {\n",
    "    \"open_time\": \"06:30:00\",\n",
    "    \"close_time\": \"18:30:00\",\n",
    "    \"value_fn\": random_payment_value,\n",
    "    \"timing_fn\": random_payment_timing,\n",
    "}\n",
    "\n",
    "payment_network = SimplePaymentNetwork(\n",
    "    total_banks=10, avg_payments=15, alpha=0.01, allow_self_loop=False\n",
    ")\n",
    "\n",
    "anomaly_generator = AnomalyGenerator(\n",
    "    anomaly_start=5,\n",
    "    anomaly_end=10,\n",
    "    prob_start=0.8,\n",
    "    prob_end=1,\n",
    "    lambda_start=0.5,\n",
    "    lambda_end=2.5,\n",
    "    rate=0.5,\n",
    ")"
   ]
  },
  {
   "cell_type": "code",
   "execution_count": 3,
   "metadata": {},
   "outputs": [
    {
     "name": "stdout",
     "output_type": "stream",
     "text": [
      "   Period      Time  Sender  Receiver  Count     Value\n",
      "0       0  18:02:13       0         3      1  0.593124\n",
      "1       0  12:13:18       0         3      1  0.866371\n",
      "2       0  11:01:37       0         3      1  1.257686\n",
      "      Period      Time  Sender  Receiver  Count     Value\n",
      "2247      14  16:01:40       8         5      1  1.136979\n",
      "2248      14  07:55:55       8         1      1  2.230251\n",
      "2249      14  12:02:00       9         7      1  7.638875\n"
     ]
    }
   ],
   "source": [
    "normal_transactions = ps.TransactionSim(\n",
    "    sim_id=1, network=payment_network, **sim_params\n",
    ")\n",
    "normal_transactions.run(sim_periods)\n",
    "\n",
    "payments1 = normal_transactions.get_payments_df()\n",
    "print(payments1.head(3))\n",
    "print(payments1.tail(3))"
   ]
  },
  {
   "cell_type": "code",
   "execution_count": 4,
   "metadata": {},
   "outputs": [
    {
     "name": "stdout",
     "output_type": "stream",
     "text": [
      "   Period      Time  Sender  Receiver  Count     Value\n",
      "0       0  15:24:40       0         1      1  0.573187\n",
      "1       0  07:51:37       0         1      1  1.094547\n",
      "2       0  12:58:54       0         1      1  1.451194\n",
      "      Period      Time  Sender  Receiver  Count     Value\n",
      "2247      14  14:44:05       9         5      1  3.670616\n",
      "2248      14  15:55:43       9         6      1  1.563775\n",
      "2249      14  08:21:50       9         1      1  2.700776\n"
     ]
    }
   ],
   "source": [
    "anomaly_transactions = ps.AnomalyTransactionSim(\n",
    "    sim_id=2, network=payment_network, anomaly=anomaly_generator, **sim_params\n",
    ")\n",
    "anomaly_transactions.run(sim_periods)\n",
    "\n",
    "payments2 = anomaly_transactions.get_payments_df()\n",
    "print(payments2.head(3))\n",
    "print(payments2.tail(3))"
   ]
  },
  {
   "cell_type": "code",
   "execution_count": 5,
   "metadata": {},
   "outputs": [
    {
     "name": "stdout",
     "output_type": "stream",
     "text": [
      "Total Transaction of Normal RTGS  : 3624.261\n",
      "Total Transaction of Anomaly RTGS : 5198.998\n"
     ]
    }
   ],
   "source": [
    "print(f\"Total Transaction of Normal RTGS  : {payments1['Value'].sum():.3f}\")\n",
    "print(f\"Total Transaction of Anomaly RTGS : {payments2['Value'].sum():.3f}\")"
   ]
  },
  {
   "cell_type": "code",
   "execution_count": 6,
   "metadata": {},
   "outputs": [
    {
     "name": "stdout",
     "output_type": "stream",
     "text": [
      "Success rate: 100.00%\n"
     ]
    }
   ],
   "source": [
    "correct = 0\n",
    "test_len = 50\n",
    "\n",
    "for _ in range(test_len):\n",
    "    normal_transactions.run(sim_periods)\n",
    "    anomaly_transactions.run(sim_periods)\n",
    "    x1 = normal_transactions.get_payments_df()[\"Value\"].sum()\n",
    "    x2 = anomaly_transactions.get_payments_df()[\"Value\"].sum()\n",
    "    if x2 > x1:\n",
    "        correct += 1\n",
    "\n",
    "print(f\"Success rate: {correct / test_len * 100:.2f}%\")"
   ]
  }
 ],
 "metadata": {
  "kernelspec": {
   "display_name": "paysim",
   "language": "python",
   "name": "python3"
  },
  "language_info": {
   "codemirror_mode": {
    "name": "ipython",
    "version": 3
   },
   "file_extension": ".py",
   "mimetype": "text/x-python",
   "name": "python",
   "nbconvert_exporter": "python",
   "pygments_lexer": "ipython3",
   "version": "3.12.4"
  }
 },
 "nbformat": 4,
 "nbformat_minor": 2
}
