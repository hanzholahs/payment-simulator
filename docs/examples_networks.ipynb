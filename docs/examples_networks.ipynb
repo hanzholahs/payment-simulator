{
 "cells": [
  {
   "cell_type": "code",
   "execution_count": 3,
   "metadata": {},
   "outputs": [],
   "source": [
    "import numpy as np # type: ignore\n",
    "\n",
    "from payment_simulator import GroupedPaymentNetwork, SimplePaymentNetwork"
   ]
  },
  {
   "cell_type": "code",
   "execution_count": 7,
   "metadata": {},
   "outputs": [],
   "source": [
    "init_banks = 3\n",
    "increment = 4\n",
    "total_banks = 9\n",
    "alpha = 0.00001\n",
    "avg_payments = 1000\n",
    "allow_self_loop = False\n"
   ]
  },
  {
   "cell_type": "code",
   "execution_count": 8,
   "metadata": {},
   "outputs": [],
   "source": [
    "network = SimplePaymentNetwork(\n",
    "    total_banks=total_banks,\n",
    "    avg_payments=avg_payments,\n",
    "    alpha=alpha,\n",
    "    allow_self_loop=allow_self_loop,\n",
    ")\n",
    "network.simulate_payments(increment=increment, init_banks=init_banks)\n"
   ]
  },
  {
   "cell_type": "code",
   "execution_count": 9,
   "metadata": {},
   "outputs": [
    {
     "name": "stdout",
     "output_type": "stream",
     "text": [
      "Bank strengths:\n",
      "[1.03852 1.03829 1.03784 1.01872 1.01337 1.01351 1.01305 1.0045  1.0022 ]\n",
      "Network links:\n",
      "[[0.     0.0813 0.0752 0.0199 0.013  0.0116 0.0116 0.0033 0.0014]\n",
      " [0.075  0.     0.0726 0.0226 0.0113 0.0112 0.009  0.003  0.0018]\n",
      " [0.0731 0.0777 0.     0.0199 0.0118 0.0101 0.0121 0.0037 0.0017]\n",
      " [0.0212 0.0207 0.0219 0.     0.0127 0.0096 0.0124 0.0034 0.0016]\n",
      " [0.0099 0.0126 0.0131 0.0117 0.     0.0123 0.0098 0.0027 0.001 ]\n",
      " [0.0131 0.0118 0.0113 0.0134 0.011  0.     0.0107 0.0033 0.0023]\n",
      " [0.0136 0.0094 0.0109 0.0111 0.012  0.0133 0.     0.003  0.0018]\n",
      " [0.0031 0.0039 0.0038 0.0047 0.0026 0.0036 0.0032 0.     0.0012]\n",
      " [0.0017 0.0017 0.0017 0.0013 0.0012 0.0014 0.0011 0.0016 0.    ]]\n",
      "True\n"
     ]
    }
   ],
   "source": [
    "print(\"Bank strengths:\")\n",
    "print(network.h)\n",
    "\n",
    "print(\"Network links:\")\n",
    "print(np.round(network.extract_link_matrix(), 4))\n",
    "print(network.extract_link_matrix(False).sum() == total_banks * avg_payments)"
   ]
  },
  {
   "cell_type": "code",
   "execution_count": 10,
   "metadata": {},
   "outputs": [],
   "source": [
    "g_network = GroupedPaymentNetwork(\n",
    "    total_banks=324,\n",
    "    bank_groups=[15, 25, 30, 30],\n",
    "    avg_payments=213,\n",
    "    alpha=0.01,\n",
    "    allow_self_loop=False,\n",
    ")\n",
    "g_network.simulate_payments(increment=25, init_banks=5)"
   ]
  },
  {
   "cell_type": "code",
   "execution_count": 11,
   "metadata": {},
   "outputs": [
    {
     "name": "stdout",
     "output_type": "stream",
     "text": [
      "Network links:\n",
      "69012\n",
      "69012.0\n"
     ]
    }
   ],
   "source": [
    "print(\"Network links:\")\n",
    "print(324 * 213)\n",
    "print(g_network.extract_link_matrix(False).sum())"
   ]
  }
 ],
 "metadata": {
  "kernelspec": {
   "display_name": "paysim",
   "language": "python",
   "name": "python3"
  },
  "language_info": {
   "codemirror_mode": {
    "name": "ipython",
    "version": 3
   },
   "file_extension": ".py",
   "mimetype": "text/x-python",
   "name": "python",
   "nbconvert_exporter": "python",
   "pygments_lexer": "ipython3",
   "version": "3.12.4"
  }
 },
 "nbformat": 4,
 "nbformat_minor": 2
}
