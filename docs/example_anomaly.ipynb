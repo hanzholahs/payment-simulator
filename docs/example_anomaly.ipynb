{
 "cells": [
  {
   "cell_type": "markdown",
   "metadata": {},
   "source": [
    "# Anomaly"
   ]
  },
  {
   "cell_type": "markdown",
   "metadata": {},
   "source": [
    "This section describes the use of anomaly generators within the `payment_simulator` Package, which facilitates the simulation of transaction anomalies in Real-Time Gross Settlement (RTGS) systems. It works by simulating anomalies that vary in probability and intensity over a defined period. This is useful for testing the system's response to increasing levels of disruption.\n"
   ]
  },
  {
   "cell_type": "code",
   "execution_count": 1,
   "metadata": {},
   "outputs": [],
   "source": [
    "import numpy as np\n",
    "from payment_simulator.anomaly import AbstractAnomalyGenerator, AnomalyGenerator\n",
    "\n",
    "np.random.seed(1234)"
   ]
  },
  {
   "cell_type": "markdown",
   "metadata": {},
   "source": [
    "## Anomaly Generator"
   ]
  },
  {
   "cell_type": "markdown",
   "metadata": {},
   "source": [
    "The `AnomalyGenerator` class, derived from `AbstractAnomalyGenerator`, is designed to simulate transaction anomalies, specifically mimicking bank run scenarios where there's a sudden increase in transactions within a specific time frame. This class adjusts probabilities and exponential distribution parameters gradually according to a pre-set rate. It calculates both the likelihood and the size of anomalies based on the current period, smoothly transitioning these values from their starting to ending points over the anomaly period. This approach helps in creating realistic anomalies in financial transaction simulations.\n",
    "\n",
    "Here we can see the `AnomalyGenerator` in action. Anomalies are only generated between the pre-defined period, which is from period 3 to 7."
   ]
  },
  {
   "cell_type": "code",
   "execution_count": 2,
   "metadata": {},
   "outputs": [
    {
     "name": "stdout",
     "output_type": "stream",
     "text": [
      " 0 0.000\n",
      " 1 0.000\n",
      " 2 0.000\n",
      " 3 0.000\n",
      " 4 0.000\n",
      " 5 1.534\n",
      " 6 2.951\n",
      " 7 2.059\n",
      " 8 0.000\n",
      " 9 0.000\n"
     ]
    }
   ],
   "source": [
    "anom_gen = AnomalyGenerator(\n",
    "    anomaly_start=3,\n",
    "    anomaly_end=7,\n",
    "    prob_start=0.4,\n",
    "    prob_end=0.8,\n",
    "    lambda_start=1.5,\n",
    "    lambda_end=2.5,\n",
    "    rate=0.5,\n",
    ")\n",
    "\n",
    "for i in range(10):\n",
    "    anomaly = anom_gen(i)\n",
    "    print(f\"{i:2d} {anomaly:3.3f}\")"
   ]
  },
  {
   "cell_type": "markdown",
   "metadata": {},
   "source": [
    "## Custom Generator\n",
    "\n",
    "You can create your own anomaly generator by extending the `AbstractAnomalyGenerator` class. To do this, you need to define how anomalies are calculated by implementing the `__call__` method. We've provided two examples of such custom generators:\n",
    "\n",
    "1. `UniformAnomalyGenerator`: This generator produces values within a specified range between two numbers.\n",
    "2. `RateAnomalyGenerator`: This generator linearly increases values based on a predetermined rate.\n",
    "\n",
    "Both implementations involve calculating a probability of anomalies occurrence. This allows for flexible and stochastic modeling of anomalies in your simulations."
   ]
  },
  {
   "cell_type": "code",
   "execution_count": 3,
   "metadata": {},
   "outputs": [],
   "source": [
    "class UniformAnomalyGenerator(AbstractAnomalyGenerator):\n",
    "    def __init__(self, min: float = 0, max: float = 1, prob: float = 0.5) -> None:\n",
    "        self.min = min\n",
    "        self.max = max\n",
    "        self.prob = prob\n",
    "        \n",
    "    def __call__(self, current_period: int = 0) -> float:\n",
    "        return np.random.binomial(1, self.prob) * np.random.uniform(self.min, self.max)"
   ]
  },
  {
   "cell_type": "code",
   "execution_count": 4,
   "metadata": {},
   "outputs": [
    {
     "name": "stdout",
     "output_type": "stream",
     "text": [
      "0 0.00\n",
      "1 0.00\n",
      "2 6.51\n",
      "3 0.00\n",
      "4 0.00\n",
      "5 4.36\n",
      "6 1.44\n",
      "7 7.05\n",
      "8 0.00\n",
      "9 0.00\n"
     ]
    }
   ],
   "source": [
    "uanom_gen = UniformAnomalyGenerator(0, 10, 0.4)\n",
    "\n",
    "for i in range(10):\n",
    "    print(f\"{i} {uanom_gen(i):.2f}\")"
   ]
  },
  {
   "cell_type": "code",
   "execution_count": 5,
   "metadata": {},
   "outputs": [],
   "source": [
    "class RateAnomalyGenerator(AbstractAnomalyGenerator):\n",
    "    def __init__(self, rate: float = 1, prob: float = 0.5) -> None:\n",
    "        self.rate = rate\n",
    "        self.prob = prob\n",
    "        \n",
    "    def __call__(self, x, current_period: int = 0) -> float:\n",
    "        return np.random.binomial(1, self.prob) * x * self.rate"
   ]
  },
  {
   "cell_type": "code",
   "execution_count": 6,
   "metadata": {},
   "outputs": [
    {
     "name": "stdout",
     "output_type": "stream",
     "text": [
      "0 10 3.00 0.00\n",
      "1 11 3.30 0.00\n",
      "2 12 3.60 0.00\n",
      "3 13 3.90 16.90\n",
      "4 14 4.20 18.20\n",
      "5 15 4.50 19.50\n",
      "6 16 4.80 0.00\n",
      "7 17 5.10 22.10\n",
      "8 18 5.40 0.00\n",
      "9 19 5.70 24.70\n"
     ]
    }
   ],
   "source": [
    "ranom_anom = RateAnomalyGenerator(1.3)\n",
    "\n",
    "for i in range(10):\n",
    "    print(f\"{i} {10+i} {(10+i) * .3:.2f} {ranom_anom(10 + i, i):.2f}\")"
   ]
  }
 ],
 "metadata": {
  "kernelspec": {
   "display_name": "paysim",
   "language": "python",
   "name": "python3"
  },
  "language_info": {
   "codemirror_mode": {
    "name": "ipython",
    "version": 3
   },
   "file_extension": ".py",
   "mimetype": "text/x-python",
   "name": "python",
   "nbconvert_exporter": "python",
   "pygments_lexer": "ipython3",
   "version": "3.12.4"
  }
 },
 "nbformat": 4,
 "nbformat_minor": 2
}
