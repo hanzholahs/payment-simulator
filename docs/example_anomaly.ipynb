{
 "cells": [
  {
   "cell_type": "markdown",
   "metadata": {},
   "source": [
    "# Anomaly"
   ]
  },
  {
   "cell_type": "code",
   "execution_count": 38,
   "metadata": {},
   "outputs": [],
   "source": [
    "import numpy as np\n",
    "from payment_simulator.anomaly import AbstractAnomalyGenerator, AnomalyGenerator\n",
    "\n",
    "np.random.seed(1234)"
   ]
  },
  {
   "cell_type": "code",
   "execution_count": 39,
   "metadata": {},
   "outputs": [
    {
     "name": "stdout",
     "output_type": "stream",
     "text": [
      " 0 0.000\n",
      " 1 0.000\n",
      " 2 0.000\n",
      " 3 0.000\n",
      " 4 0.000\n",
      " 5 1.534\n",
      " 6 2.951\n",
      " 7 2.059\n",
      " 8 0.000\n",
      " 9 0.000\n"
     ]
    }
   ],
   "source": [
    "anom_gen = AnomalyGenerator(\n",
    "    anomaly_start=3,\n",
    "    anomaly_end=7,\n",
    "    prob_start=0.4,\n",
    "    prob_end=0.8,\n",
    "    lambda_start=1.5,\n",
    "    lambda_end=2.5,\n",
    "    rate=0.5,\n",
    ")\n",
    "\n",
    "for i in range(10):\n",
    "    anomaly = anom_gen(i)\n",
    "    print(f\"{i:2d} {anomaly:3.3f}\")"
   ]
  },
  {
   "cell_type": "code",
   "execution_count": 40,
   "metadata": {},
   "outputs": [],
   "source": [
    "class UniformAnomalyGenerator(AbstractAnomalyGenerator):\n",
    "    def __init__(self, min: float = 0, max: float = 1, prob: float = 0.5) -> None:\n",
    "        self.min = min\n",
    "        self.max = max\n",
    "        self.prob = prob\n",
    "        \n",
    "    def __call__(self, current_period: int = 0) -> float:\n",
    "        return np.random.binomial(1, self.prob) * np.random.uniform(self.min, self.max)"
   ]
  },
  {
   "cell_type": "code",
   "execution_count": 41,
   "metadata": {},
   "outputs": [
    {
     "name": "stdout",
     "output_type": "stream",
     "text": [
      "0 0.00\n",
      "1 0.00\n",
      "2 6.51\n",
      "3 0.00\n",
      "4 0.00\n",
      "5 4.36\n",
      "6 1.44\n",
      "7 7.05\n",
      "8 0.00\n",
      "9 0.00\n"
     ]
    }
   ],
   "source": [
    "uanom_gen = UniformAnomalyGenerator(0, 10, 0.4)\n",
    "\n",
    "for i in range(10):\n",
    "    print(f\"{i} {uanom_gen(i):.2f}\")"
   ]
  },
  {
   "cell_type": "code",
   "execution_count": 42,
   "metadata": {},
   "outputs": [],
   "source": [
    "class RateAnomalyGenerator(AbstractAnomalyGenerator):\n",
    "    def __init__(self, rate: float = 1, prob: float = 0.5) -> None:\n",
    "        self.rate = rate\n",
    "        self.prob = prob\n",
    "        \n",
    "    def __call__(self, x, current_period: int = 0) -> float:\n",
    "        return np.random.binomial(1, self.prob) * x * self.rate"
   ]
  },
  {
   "cell_type": "code",
   "execution_count": 43,
   "metadata": {},
   "outputs": [
    {
     "name": "stdout",
     "output_type": "stream",
     "text": [
      "0 10 3.00 0.00\n",
      "1 11 3.30 0.00\n",
      "2 12 3.60 0.00\n",
      "3 13 3.90 16.90\n",
      "4 14 4.20 18.20\n",
      "5 15 4.50 19.50\n",
      "6 16 4.80 0.00\n",
      "7 17 5.10 22.10\n",
      "8 18 5.40 0.00\n",
      "9 19 5.70 24.70\n"
     ]
    }
   ],
   "source": [
    "ranom_anom = RateAnomalyGenerator(1.3)\n",
    "\n",
    "for i in range(10):\n",
    "    print(f\"{i} {10+i} {(10+i) * .3:.2f} {ranom_anom(10 + i, i):.2f}\")"
   ]
  }
 ],
 "metadata": {
  "kernelspec": {
   "display_name": "paysim",
   "language": "python",
   "name": "python3"
  },
  "language_info": {
   "codemirror_mode": {
    "name": "ipython",
    "version": 3
   },
   "file_extension": ".py",
   "mimetype": "text/x-python",
   "name": "python",
   "nbconvert_exporter": "python",
   "pygments_lexer": "ipython3",
   "version": "3.12.4"
  }
 },
 "nbformat": 4,
 "nbformat_minor": 2
}
